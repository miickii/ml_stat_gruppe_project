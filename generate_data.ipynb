{
 "cells": [
  {
   "cell_type": "code",
   "execution_count": 2,
   "metadata": {},
   "outputs": [],
   "source": [
    "from openai import OpenAI\n",
    "\n",
    "#client = OpenAI(api_key=\"\")\n",
    "\n",
    "import pandas as pd\n",
    "\n",
    "# Load the balanced samples\n",
    "cola_sample = pd.read_csv('Data/cola_sample.csv')\n",
    "sst2_sample = pd.read_csv('Data/sst2_sample.csv')\n",
    "mrpc_sample = pd.read_csv('Data/mrpc_sample.csv')\n",
    "mnli_sample = pd.read_csv('Data/mnli_sample.csv')"
   ]
  },
  {
   "cell_type": "code",
   "execution_count": 3,
   "metadata": {},
   "outputs": [],
   "source": [
    "def evaluate_cola(sentence):\n",
    "    prompt = f\"Is the following sentence grammatically acceptable? '{sentence}' Answer with 'acceptable' or 'unacceptable'.\"\n",
    "    completion = client.chat.completions.create(\n",
    "        model=\"gpt-3.5-turbo\",\n",
    "        messages=[\n",
    "            {\"role\": \"user\", \"content\": prompt}\n",
    "        ],\n",
    "        max_tokens=10,  # Limiting the response to 10 tokens\n",
    "        temperature=0  # Ensuring deterministic responses\n",
    "    )\n",
    "    response = completion.choices[0].message.content\n",
    "\n",
    "    return response.strip().lower()\n",
    "\n",
    "def evaluate_sst2(sentence):\n",
    "    prompt = f\"Classify the sentiment of the following sentence as 'positive' or 'negative' ONLY answer with either 'positive' or 'negative': '{sentence}'\"\n",
    "    completion = client.chat.completions.create(\n",
    "        model=\"gpt-3.5-turbo\",\n",
    "        messages=[\n",
    "            {\"role\": \"user\", \"content\": prompt}\n",
    "        ],\n",
    "        max_tokens=10,  # Limiting the response to 10 tokens\n",
    "        temperature=0  # Ensuring deterministic responses\n",
    "    )\n",
    "    response = completion.choices[0].message.content\n",
    "\n",
    "    return response.strip().lower()\n",
    "\n",
    "def evaluate_mrpc(sentence1, sentence2):\n",
    "    prompt = f\"Are the following sentences paraphrases? '{sentence1}' and '{sentence2}' Answer with 'paraphrase' or 'not paraphrase'.\"\n",
    "    completion = client.chat.completions.create(\n",
    "        model=\"gpt-3.5-turbo\",\n",
    "        messages=[\n",
    "            {\"role\": \"user\", \"content\": prompt}\n",
    "        ],\n",
    "        max_tokens=10,  # Limiting the response to 10 tokens\n",
    "        temperature=0  # Ensuring deterministic responses\n",
    "    )\n",
    "    response = completion.choices[0].message.content\n",
    "\n",
    "    return response.strip().lower()\n",
    "\n",
    "def evaluate_mnli(premise, hypothesis):\n",
    "    prompt = f\"What is the relationship between the following sentences? '{premise}' and '{hypothesis}' Answer with 'entailment', 'neutral', or 'contradiction', and DON'T answer with anything else\"\n",
    "    completion = client.chat.completions.create(\n",
    "        model=\"gpt-3.5-turbo\",\n",
    "        messages=[\n",
    "            {\"role\": \"user\", \"content\": prompt}\n",
    "        ],\n",
    "        max_tokens=10,  # Limiting the response to 10 tokens\n",
    "        temperature=0  # Ensuring deterministic responses\n",
    "    )\n",
    "    response = completion.choices[0].message.content\n",
    "\n",
    "    return response.strip().lower()"
   ]
  },
  {
   "cell_type": "code",
   "execution_count": 19,
   "metadata": {},
   "outputs": [],
   "source": [
    "\n",
    "\n",
    "cola_results = []\n",
    "\n",
    "for index, row in cola_sample.iterrows():\n",
    "    result = evaluate_cola(row['sentence'])\n",
    "    cola_results.append({'sentence': row['sentence'], 'actual_label': row['label'], 'predicted_label': result})\n",
    "\n",
    "pd.DataFrame(cola_results).to_csv(\"cola_response.csv\", index=False)\n"
   ]
  },
  {
   "cell_type": "code",
   "execution_count": 31,
   "metadata": {},
   "outputs": [],
   "source": [
    "\n",
    "# sst2_results = []\n",
    "# for index, row in sst2_sample.iterrows():\n",
    "#     result = evaluate_sst2(row['sentence'])\n",
    "#     sst2_results.append({'sentence': row['sentence'], 'actual_label': row['label'], 'predicted_label': result})\n",
    "\n",
    "# pd.DataFrame(sst2_results).to_csv('sst2_results.csv', index=False)\n",
    "\n",
    "# Evaluate and save results for MNLI\n",
    "mnli_results = []\n",
    "for index, row in mnli_sample.iterrows():\n",
    "    result = evaluate_mnli(row['premise'], row['hypothesis'])\n",
    "    mnli_results.append({'premise': row['premise'], 'hypothesis': row['hypothesis'], 'actual_label': row['label'], 'predicted_label': result})\n",
    "\n",
    "pd.DataFrame(mnli_results).to_csv('mnli_results.csv', index=False)\n"
   ]
  },
  {
   "cell_type": "code",
   "execution_count": 4,
   "metadata": {},
   "outputs": [
    {
     "data": {
      "text/plain": [
       "'not paraphrase'"
      ]
     },
     "execution_count": 4,
     "metadata": {},
     "output_type": "execute_result"
    }
   ],
   "source": [
    "s1 = \"He also reaffirmed his wish to resolve the North Korean nuclear crisis peacefully .\"\n",
    "s2 = \"But the North Korean nuclear crisis has dominated his time in office .\"\n",
    "result = evaluate_mrpc(s1, s2)\n",
    "result"
   ]
  }
 ],
 "metadata": {
  "kernelspec": {
   "display_name": "IntelligentSystems",
   "language": "python",
   "name": "python3"
  },
  "language_info": {
   "codemirror_mode": {
    "name": "ipython",
    "version": 3
   },
   "file_extension": ".py",
   "mimetype": "text/x-python",
   "name": "python",
   "nbconvert_exporter": "python",
   "pygments_lexer": "ipython3",
   "version": "3.11.4"
  }
 },
 "nbformat": 4,
 "nbformat_minor": 2
}
