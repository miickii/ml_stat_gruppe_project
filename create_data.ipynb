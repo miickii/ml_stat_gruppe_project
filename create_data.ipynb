{
 "cells": [
  {
   "cell_type": "code",
   "execution_count": 1,
   "metadata": {},
   "outputs": [],
   "source": [
    "from datasets import load_dataset\n",
    "import pandas as pd\n",
    "import numpy as np\n",
    "import matplotlib.pyplot as plt\n",
    "import seaborn as sns\n",
    "\n",
    "# Load datasets\n",
    "cola_dataset = load_dataset(\"glue\", \"cola\")\n",
    "sst2_dataset = load_dataset(\"glue\", \"sst2\")\n",
    "mrpc_dataset = load_dataset(\"glue\", \"mrpc\")\n",
    "mnli_dataset = load_dataset(\"glue\", \"mnli\")\n",
    "\n",
    "# Sample 100 examples from each task\n",
    "cola_sample = cola_dataset['train'].shuffle(seed=42).select(range(100))\n",
    "sst2_sample = sst2_dataset['train'].shuffle(seed=42).select(range(100))\n",
    "mrpc_sample = mrpc_dataset['train'].shuffle(seed=42).select(range(100))\n",
    "mnli_sample = mnli_dataset['train'].shuffle(seed=42).select(range(100))"
   ]
  },
  {
   "cell_type": "code",
   "execution_count": 2,
   "metadata": {},
   "outputs": [
    {
     "name": "stdout",
     "output_type": "stream",
     "text": [
      "Samples saved successfully.\n"
     ]
    }
   ],
   "source": [
    "# Function to sample equal number of examples from each class\n",
    "def sample_equal(dataset, label_column, num_samples_per_class):\n",
    "    df = pd.DataFrame(dataset)\n",
    "    df_sampled = df.groupby(label_column).apply(lambda x: x.sample(num_samples_per_class, replace=True)).reset_index(drop=True)\n",
    "    return df_sampled\n",
    "\n",
    "# Number of samples per class for a balanced dataset (75 from each class if binary classification)\n",
    "samples_per_class = 450\n",
    "\n",
    "# Sample equal number of examples from each class\n",
    "cola_sample = sample_equal(cola_dataset['train'], 'label', samples_per_class)\n",
    "sst2_sample = sample_equal(sst2_dataset['train'], 'label', samples_per_class)\n",
    "mrpc_sample = sample_equal(mrpc_dataset['train'], 'label', samples_per_class)\n",
    "\n",
    "# For MNLI, since it's a multi-class problem, we will take 50 from each class to make 150 samples\n",
    "samples_per_class_mnli = 300\n",
    "mnli_sample = sample_equal(mnli_dataset['train'], 'label', samples_per_class_mnli)\n",
    "\n",
    "# Save the samples to CSV files\n",
    "cola_sample.to_csv('cola_sample.csv', index=False)\n",
    "sst2_sample.to_csv('sst2_sample.csv', index=False)\n",
    "mrpc_sample.to_csv('mrpc_sample.csv', index=False)\n",
    "mnli_sample.to_csv('mnli_sample.csv', index=False)\n",
    "\n",
    "print(\"Samples saved successfully.\")"
   ]
  }
 ],
 "metadata": {
  "kernelspec": {
   "display_name": "IntelligentSystems",
   "language": "python",
   "name": "python3"
  },
  "language_info": {
   "codemirror_mode": {
    "name": "ipython",
    "version": 3
   },
   "file_extension": ".py",
   "mimetype": "text/x-python",
   "name": "python",
   "nbconvert_exporter": "python",
   "pygments_lexer": "ipython3",
   "version": "3.11.4"
  }
 },
 "nbformat": 4,
 "nbformat_minor": 2
}
